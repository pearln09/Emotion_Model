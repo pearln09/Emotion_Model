{
 "cells": [
  {
   "cell_type": "code",
   "execution_count": 74,
   "id": "39b430b8-2a82-4a24-802d-1b00095b5744",
   "metadata": {},
   "outputs": [],
   "source": [
    "from keras.models import Sequential\n",
    "from keras.layers import Conv2D,MaxPooling2D,Dense,Dropout,Flatten\n",
    "from keras.optimizers import Adam\n",
    "from keras.preprocessing.image import ImageDataGenerator\n",
    "from tensorflow.keras.optimizers import Adam\n",
    "from tensorflow.keras.preprocessing.image import ImageDataGenerator\n",
    "from tensorflow.keras.optimizers.schedules import ExponentialDecay\n",
    "import numpy as np\n",
    "import pandas as pd"
   ]
  },
  {
   "cell_type": "code",
   "execution_count": 75,
   "id": "3e05861c-a2be-46ce-bb7e-15f06db5f958",
   "metadata": {},
   "outputs": [],
   "source": [
    "data=pd.read_csv('dataset_01.csv')"
   ]
  },
  {
   "cell_type": "code",
   "execution_count": 76,
   "id": "d25ac9bb-4558-4667-91c6-f80a8363b281",
   "metadata": {},
   "outputs": [],
   "source": [
    "data_1=data[data['Usage']=='Training']"
   ]
  },
  {
   "cell_type": "code",
   "execution_count": 77,
   "id": "c3bf7723-85ce-459f-9e41-743522c23b01",
   "metadata": {},
   "outputs": [],
   "source": [
    "data_2=data[data['Usage']!='Training']"
   ]
  },
  {
   "cell_type": "code",
   "execution_count": 78,
   "id": "472eeddc-1905-4b5e-aad8-a8edf9596e5d",
   "metadata": {},
   "outputs": [],
   "source": [
    "data_1.to_csv('train_data_cnn.csv', index=False)"
   ]
  },
  {
   "cell_type": "code",
   "execution_count": 79,
   "id": "3f56bce2-bf6b-470d-8c42-937dba575dab",
   "metadata": {},
   "outputs": [],
   "source": [
    "data_2.to_csv('test_data_cnn.csv', index=False)"
   ]
  },
  {
   "cell_type": "code",
   "execution_count": null,
   "id": "072aa982-4ce4-4762-8b70-103728862111",
   "metadata": {},
   "outputs": [],
   "source": []
  },
  {
   "cell_type": "code",
   "execution_count": 80,
   "id": "1b78b08b-092a-48da-94ad-4bc7d88661c9",
   "metadata": {},
   "outputs": [],
   "source": [
    "# Data augmentation\n",
    "train_datagen = ImageDataGenerator(\n",
    "    rotation_range=10,\n",
    "    zoom_range=0.1,\n",
    "    width_shift_range=0.1,\n",
    "    height_shift_range=0.1,\n",
    "    horizontal_flip=True\n",
    ")\n",
    "\n",
    "test_datagen = ImageDataGenerator()\n",
    "\n"
   ]
  },
  {
   "cell_type": "code",
   "execution_count": 81,
   "id": "5246029a-2014-47f3-a444-553a4a69bab5",
   "metadata": {},
   "outputs": [],
   "source": [
    "from tensorflow.keras.utils import to_categorical\n",
    "data1 = pd.read_csv('train_data_cnn.csv')\n",
    "data2 = pd.read_csv('test_data_cnn.csv')\n",
    "\n",
    "def preprocess_data(data):\n",
    "    X = np.array([np.fromstring(pixels, dtype=int, sep=' ').reshape(48, 48, 1) for pixels in data['pixels']])\n",
    "    y = to_categorical(data['emotion'], num_classes=7)\n",
    "    return X, y\n",
    "\n",
    "X_train, y_train = preprocess_data(data1)\n",
    "X_test, y_test = preprocess_data(data2)\n",
    "\n",
    "X_train = X_train / 255.0\n",
    "X_test = X_test / 255.0\n"
   ]
  },
  {
   "cell_type": "code",
   "execution_count": null,
   "id": "df798783-b9b1-46fd-aa7e-ce4a02392e9e",
   "metadata": {},
   "outputs": [],
   "source": []
  },
  {
   "cell_type": "code",
   "execution_count": null,
   "id": "edd52b94-401d-4f02-b8f8-12d85496c461",
   "metadata": {},
   "outputs": [],
   "source": []
  },
  {
   "cell_type": "code",
   "execution_count": 82,
   "id": "86780417-19a9-4191-a422-150fd4c7ea3b",
   "metadata": {},
   "outputs": [],
   "source": [
    "train_generator = train_datagen.flow(X_train,y_train, batch_size=64)\n",
    "test_generator = test_datagen.flow(X_test,y_test, batch_size=64)\n"
   ]
  },
  {
   "cell_type": "code",
   "execution_count": 83,
   "id": "6b9efaab-508b-4677-89a7-e68c7d5ecd9f",
   "metadata": {},
   "outputs": [],
   "source": [
    "emotion_model=Sequential()\n",
    "emotion_model.add(Conv2D(32,kernel_size=(3,3),activation='relu',input_shape=(48,48,1)))\n",
    "emotion_model.add(Conv2D(64,kernel_size=(3,3),activation='relu'))\n",
    "emotion_model.add(MaxPooling2D(pool_size=(2,2)))\n",
    "emotion_model.add(Dropout(0.25))"
   ]
  },
  {
   "cell_type": "code",
   "execution_count": 84,
   "id": "342c6f9a-7ca6-4cc0-825f-291826b0ec3b",
   "metadata": {},
   "outputs": [],
   "source": [
    "emotion_model.add(Conv2D(128,kernel_size=(3,3),activation='relu'))\n",
    "emotion_model.add(MaxPooling2D(pool_size=(2,2)))\n",
    "emotion_model.add(Conv2D(128,kernel_size=(3,3),activation='relu'))\n",
    "emotion_model.add(MaxPooling2D(pool_size=(2,2)))\n",
    "emotion_model.add(Dropout(0.25))"
   ]
  },
  {
   "cell_type": "code",
   "execution_count": 85,
   "id": "066631ff-6b49-4b70-9e69-08f1d1dba14b",
   "metadata": {},
   "outputs": [],
   "source": [
    "emotion_model.add(Flatten())\n",
    "emotion_model.add(Dense(1024,activation='relu'))\n",
    "emotion_model.add(Dropout(0.5))\n",
    "emotion_model.add(Dense(7,activation='softmax'))"
   ]
  },
  {
   "cell_type": "code",
   "execution_count": 86,
   "id": "8e42e9de-3196-4c38-80d3-4eaa800d2902",
   "metadata": {},
   "outputs": [
    {
     "name": "stdout",
     "output_type": "stream",
     "text": [
      "Model: \"sequential_3\"\n",
      "_________________________________________________________________\n",
      " Layer (type)                Output Shape              Param #   \n",
      "=================================================================\n",
      " conv2d_12 (Conv2D)          (None, 46, 46, 32)        320       \n",
      "                                                                 \n",
      " conv2d_13 (Conv2D)          (None, 44, 44, 64)        18496     \n",
      "                                                                 \n",
      " max_pooling2d_9 (MaxPoolin  (None, 22, 22, 64)        0         \n",
      " g2D)                                                            \n",
      "                                                                 \n",
      " dropout_9 (Dropout)         (None, 22, 22, 64)        0         \n",
      "                                                                 \n",
      " conv2d_14 (Conv2D)          (None, 20, 20, 128)       73856     \n",
      "                                                                 \n",
      " max_pooling2d_10 (MaxPooli  (None, 10, 10, 128)       0         \n",
      " ng2D)                                                           \n",
      "                                                                 \n",
      " conv2d_15 (Conv2D)          (None, 8, 8, 128)         147584    \n",
      "                                                                 \n",
      " max_pooling2d_11 (MaxPooli  (None, 4, 4, 128)         0         \n",
      " ng2D)                                                           \n",
      "                                                                 \n",
      " dropout_10 (Dropout)        (None, 4, 4, 128)         0         \n",
      "                                                                 \n",
      " flatten_3 (Flatten)         (None, 2048)              0         \n",
      "                                                                 \n",
      " dense_6 (Dense)             (None, 1024)              2098176   \n",
      "                                                                 \n",
      " dropout_11 (Dropout)        (None, 1024)              0         \n",
      "                                                                 \n",
      " dense_7 (Dense)             (None, 7)                 7175      \n",
      "                                                                 \n",
      "=================================================================\n",
      "Total params: 2345607 (8.95 MB)\n",
      "Trainable params: 2345607 (8.95 MB)\n",
      "Non-trainable params: 0 (0.00 Byte)\n",
      "_________________________________________________________________\n"
     ]
    }
   ],
   "source": [
    "emotion_model.summary()"
   ]
  },
  {
   "cell_type": "code",
   "execution_count": 87,
   "id": "69bea431-57af-4dee-8780-657027e1ea94",
   "metadata": {},
   "outputs": [],
   "source": [
    "initial_learning_rate=0.0001\n",
    "lr_schedule=ExponentialDecay(initial_learning_rate,decay_steps=100000,decay_rate=0.96)\n",
    "optimizer=Adam(learning_rate=lr_schedule)\n",
    "emotion_model.compile(loss='categorical_crossentropy',optimizer=optimizer,metrics=['accuracy'])"
   ]
  },
  {
   "cell_type": "code",
   "execution_count": 88,
   "id": "91eae41c-30bc-45b2-bc44-e2e1f371c8df",
   "metadata": {
    "scrolled": true
   },
   "outputs": [
    {
     "name": "stderr",
     "output_type": "stream",
     "text": [
      "C:\\Users\\ishaa\\AppData\\Local\\Temp\\ipykernel_13924\\4063986632.py:1: UserWarning: `Model.fit_generator` is deprecated and will be removed in a future version. Please use `Model.fit`, which supports generators.\n",
      "  emotion_model_info=emotion_model.fit_generator(\n"
     ]
    },
    {
     "name": "stdout",
     "output_type": "stream",
     "text": [
      "Epoch 1/50\n",
      "224/224 [==============================] - 90s 376ms/step - loss: 1.8263 - accuracy: 0.2497 - val_loss: 1.8369 - val_accuracy: 0.2520\n",
      "Epoch 2/50\n",
      "224/224 [==============================] - 85s 377ms/step - loss: 1.8029 - accuracy: 0.2513 - val_loss: 1.7867 - val_accuracy: 0.2751\n",
      "Epoch 3/50\n",
      "224/224 [==============================] - 87s 387ms/step - loss: 1.7594 - accuracy: 0.2784 - val_loss: 1.7265 - val_accuracy: 0.3351\n",
      "Epoch 4/50\n",
      "224/224 [==============================] - 83s 370ms/step - loss: 1.7206 - accuracy: 0.3122 - val_loss: 1.6353 - val_accuracy: 0.3516\n",
      "Epoch 5/50\n",
      "224/224 [==============================] - 84s 377ms/step - loss: 1.6791 - accuracy: 0.3348 - val_loss: 1.5721 - val_accuracy: 0.4099\n",
      "Epoch 6/50\n",
      "224/224 [==============================] - 85s 380ms/step - loss: 1.6508 - accuracy: 0.3445 - val_loss: 1.5595 - val_accuracy: 0.4037\n",
      "Epoch 7/50\n",
      "224/224 [==============================] - 87s 389ms/step - loss: 1.6131 - accuracy: 0.3660 - val_loss: 1.4874 - val_accuracy: 0.4308\n",
      "Epoch 8/50\n",
      "224/224 [==============================] - 87s 386ms/step - loss: 1.5783 - accuracy: 0.3848 - val_loss: 1.4734 - val_accuracy: 0.4406\n",
      "Epoch 9/50\n",
      "224/224 [==============================] - 84s 374ms/step - loss: 1.5619 - accuracy: 0.3889 - val_loss: 1.4318 - val_accuracy: 0.4637\n",
      "Epoch 10/50\n",
      "224/224 [==============================] - 87s 386ms/step - loss: 1.5322 - accuracy: 0.4082 - val_loss: 1.4362 - val_accuracy: 0.4515\n",
      "Epoch 11/50\n",
      "224/224 [==============================] - 82s 366ms/step - loss: 1.5113 - accuracy: 0.4153 - val_loss: 1.3856 - val_accuracy: 0.4813\n",
      "Epoch 12/50\n",
      "224/224 [==============================] - 87s 389ms/step - loss: 1.4850 - accuracy: 0.4282 - val_loss: 1.3780 - val_accuracy: 0.4749\n",
      "Epoch 13/50\n",
      "224/224 [==============================] - 86s 383ms/step - loss: 1.4712 - accuracy: 0.4342 - val_loss: 1.3621 - val_accuracy: 0.4788\n",
      "Epoch 14/50\n",
      "224/224 [==============================] - 82s 367ms/step - loss: 1.4503 - accuracy: 0.4453 - val_loss: 1.3587 - val_accuracy: 0.4833\n",
      "Epoch 15/50\n",
      "224/224 [==============================] - 82s 367ms/step - loss: 1.4293 - accuracy: 0.4547 - val_loss: 1.3211 - val_accuracy: 0.5050\n",
      "Epoch 16/50\n",
      "224/224 [==============================] - 85s 381ms/step - loss: 1.4063 - accuracy: 0.4636 - val_loss: 1.3101 - val_accuracy: 0.5031\n",
      "Epoch 17/50\n",
      "224/224 [==============================] - 83s 370ms/step - loss: 1.3925 - accuracy: 0.4722 - val_loss: 1.3016 - val_accuracy: 0.5112\n",
      "Epoch 18/50\n",
      "224/224 [==============================] - 85s 378ms/step - loss: 1.3817 - accuracy: 0.4773 - val_loss: 1.2493 - val_accuracy: 0.5290\n",
      "Epoch 19/50\n",
      "224/224 [==============================] - 84s 376ms/step - loss: 1.3715 - accuracy: 0.4798 - val_loss: 1.2453 - val_accuracy: 0.5349\n",
      "Epoch 20/50\n",
      "224/224 [==============================] - 82s 364ms/step - loss: 1.3407 - accuracy: 0.4946 - val_loss: 1.2437 - val_accuracy: 0.5287\n",
      "Epoch 21/50\n",
      "224/224 [==============================] - 81s 362ms/step - loss: 1.3436 - accuracy: 0.4900 - val_loss: 1.2074 - val_accuracy: 0.5444\n",
      "Epoch 22/50\n",
      "224/224 [==============================] - 80s 357ms/step - loss: 1.3277 - accuracy: 0.4972 - val_loss: 1.2156 - val_accuracy: 0.5349\n",
      "Epoch 23/50\n",
      "224/224 [==============================] - 83s 368ms/step - loss: 1.3285 - accuracy: 0.4983 - val_loss: 1.2238 - val_accuracy: 0.5279\n",
      "Epoch 24/50\n",
      "224/224 [==============================] - 77s 346ms/step - loss: 1.3078 - accuracy: 0.5066 - val_loss: 1.1743 - val_accuracy: 0.5527\n",
      "Epoch 25/50\n",
      "224/224 [==============================] - 79s 354ms/step - loss: 1.3061 - accuracy: 0.5048 - val_loss: 1.1938 - val_accuracy: 0.5444\n",
      "Epoch 26/50\n",
      "224/224 [==============================] - 84s 373ms/step - loss: 1.2827 - accuracy: 0.5124 - val_loss: 1.1928 - val_accuracy: 0.5402\n",
      "Epoch 27/50\n",
      "224/224 [==============================] - 80s 357ms/step - loss: 1.2852 - accuracy: 0.5103 - val_loss: 1.1998 - val_accuracy: 0.5466\n",
      "Epoch 28/50\n",
      "224/224 [==============================] - 82s 364ms/step - loss: 1.2757 - accuracy: 0.5150 - val_loss: 1.1699 - val_accuracy: 0.5552\n",
      "Epoch 29/50\n",
      "224/224 [==============================] - 81s 361ms/step - loss: 1.2692 - accuracy: 0.5193 - val_loss: 1.1406 - val_accuracy: 0.5597\n",
      "Epoch 30/50\n",
      "224/224 [==============================] - 83s 370ms/step - loss: 1.2632 - accuracy: 0.5225 - val_loss: 1.1709 - val_accuracy: 0.5564\n",
      "Epoch 31/50\n",
      "224/224 [==============================] - 83s 369ms/step - loss: 1.2535 - accuracy: 0.5208 - val_loss: 1.1571 - val_accuracy: 0.5533\n",
      "Epoch 32/50\n",
      "224/224 [==============================] - 83s 370ms/step - loss: 1.2502 - accuracy: 0.5272 - val_loss: 1.1706 - val_accuracy: 0.5600\n",
      "Epoch 33/50\n",
      "224/224 [==============================] - 88s 394ms/step - loss: 1.2391 - accuracy: 0.5326 - val_loss: 1.1324 - val_accuracy: 0.5684\n",
      "Epoch 34/50\n",
      "224/224 [==============================] - 90s 400ms/step - loss: 1.2408 - accuracy: 0.5347 - val_loss: 1.1471 - val_accuracy: 0.5566\n",
      "Epoch 35/50\n",
      "224/224 [==============================] - 88s 392ms/step - loss: 1.2299 - accuracy: 0.5332 - val_loss: 1.1522 - val_accuracy: 0.5611\n",
      "Epoch 36/50\n",
      "224/224 [==============================] - 87s 386ms/step - loss: 1.2222 - accuracy: 0.5362 - val_loss: 1.1407 - val_accuracy: 0.5656\n",
      "Epoch 37/50\n",
      "224/224 [==============================] - 89s 396ms/step - loss: 1.2174 - accuracy: 0.5422 - val_loss: 1.1317 - val_accuracy: 0.5653\n",
      "Epoch 38/50\n",
      "224/224 [==============================] - 85s 381ms/step - loss: 1.2134 - accuracy: 0.5404 - val_loss: 1.1252 - val_accuracy: 0.5672\n",
      "Epoch 39/50\n",
      "224/224 [==============================] - 82s 364ms/step - loss: 1.2196 - accuracy: 0.5389 - val_loss: 1.1002 - val_accuracy: 0.5798\n",
      "Epoch 40/50\n",
      "224/224 [==============================] - 85s 380ms/step - loss: 1.1968 - accuracy: 0.5514 - val_loss: 1.1481 - val_accuracy: 0.5684\n",
      "Epoch 41/50\n",
      "224/224 [==============================] - 83s 370ms/step - loss: 1.2103 - accuracy: 0.5433 - val_loss: 1.0951 - val_accuracy: 0.5871\n",
      "Epoch 42/50\n",
      "224/224 [==============================] - 82s 366ms/step - loss: 1.2074 - accuracy: 0.5421 - val_loss: 1.1143 - val_accuracy: 0.5837\n",
      "Epoch 43/50\n",
      "224/224 [==============================] - 84s 375ms/step - loss: 1.1866 - accuracy: 0.5488 - val_loss: 1.0900 - val_accuracy: 0.5868\n",
      "Epoch 44/50\n",
      "224/224 [==============================] - 85s 380ms/step - loss: 1.1873 - accuracy: 0.5506 - val_loss: 1.1067 - val_accuracy: 0.5809\n",
      "Epoch 45/50\n",
      "224/224 [==============================] - 84s 373ms/step - loss: 1.1834 - accuracy: 0.5528 - val_loss: 1.1020 - val_accuracy: 0.5837\n",
      "Epoch 46/50\n",
      "224/224 [==============================] - 84s 376ms/step - loss: 1.1716 - accuracy: 0.5535 - val_loss: 1.1124 - val_accuracy: 0.5742\n",
      "Epoch 47/50\n",
      "224/224 [==============================] - 86s 382ms/step - loss: 1.1772 - accuracy: 0.5578 - val_loss: 1.0906 - val_accuracy: 0.5907\n",
      "Epoch 48/50\n",
      "224/224 [==============================] - 89s 395ms/step - loss: 1.1750 - accuracy: 0.5607 - val_loss: 1.0847 - val_accuracy: 0.5938\n",
      "Epoch 49/50\n",
      "224/224 [==============================] - 83s 370ms/step - loss: 1.1746 - accuracy: 0.5565 - val_loss: 1.0790 - val_accuracy: 0.5935\n",
      "Epoch 50/50\n",
      "224/224 [==============================] - 84s 377ms/step - loss: 1.1661 - accuracy: 0.5586 - val_loss: 1.0945 - val_accuracy: 0.5907\n"
     ]
    }
   ],
   "source": [
    "emotion_model_info=emotion_model.fit_generator(\n",
    "    train_generator,\n",
    "    steps_per_epoch=28709//128,\n",
    "    epochs=50,\n",
    "    validation_data=test_generator,\n",
    "    validation_steps=7178//128)\n"
   ]
  },
  {
   "cell_type": "code",
   "execution_count": 89,
   "id": "05929e36-e4d2-4b17-8278-5dd42bbe40e1",
   "metadata": {},
   "outputs": [
    {
     "name": "stdout",
     "output_type": "stream",
     "text": [
      "107/107 [==============================] - 10s 90ms/step - loss: 1.0822 - accuracy: 0.5928\n"
     ]
    },
    {
     "data": {
      "text/plain": [
       "[1.082198977470398, 0.5927668213844299]"
      ]
     },
     "execution_count": 89,
     "metadata": {},
     "output_type": "execute_result"
    }
   ],
   "source": [
    "emotion_model.evaluate(test_generator)"
   ]
  },
  {
   "cell_type": "code",
   "execution_count": 90,
   "id": "de587ba6-9913-4c89-8f9d-32ce4b2fd5e5",
   "metadata": {},
   "outputs": [],
   "source": [
    "accuracy=emotion_model_info.history['accuracy']\n",
    "val_accuracy=emotion_model_info.history['val_accuracy']\n",
    "loss=emotion_model_info.history['loss']\n",
    "val_loss=emotion_model_info.history['val_loss']"
   ]
  },
  {
   "cell_type": "code",
   "execution_count": 91,
   "id": "f1495e2e-734b-4ac0-82d8-2f92cf724395",
   "metadata": {},
   "outputs": [
    {
     "name": "stdout",
     "output_type": "stream",
     "text": [
      "[0.251953125, 0.2751116156578064, 0.3351004421710968, 0.3515625, 0.4098772406578064, 0.4037388265132904, 0.4308035671710968, 0.4405691921710968, 0.4637276828289032, 0.4514508843421936, 0.4813058078289032, 0.4748883843421936, 0.4787946343421936, 0.4832589328289032, 0.5050223469734192, 0.5030692219734192, 0.5111607313156128, 0.5290178656578064, 0.5348772406578064, 0.5287388563156128, 0.5443638563156128, 0.5348772406578064, 0.5279017686843872, 0.552734375, 0.5443638563156128, 0.5401785969734192, 0.5465959906578064, 0.5552455186843872, 0.5597098469734192, 0.5563616156578064, 0.5532923936843872, 0.5599888563156128, 0.568359375, 0.556640625, 0.5611048936843872, 0.5655692219734192, 0.5652901530265808, 0.5672432780265808, 0.5797991156578064, 0.568359375, 0.5870535969734192, 0.5837053656578064, 0.5867745280265808, 0.5809151530265808, 0.5837053656578064, 0.57421875, 0.5906807780265808, 0.59375, 0.5934709906578064, 0.5906807780265808]\n"
     ]
    }
   ],
   "source": [
    "print(val_accuracy)"
   ]
  },
  {
   "cell_type": "code",
   "execution_count": null,
   "id": "6d154e99-1e6d-4fda-b56b-3141c5b5b374",
   "metadata": {},
   "outputs": [],
   "source": []
  },
  {
   "cell_type": "code",
   "execution_count": 92,
   "id": "cc8f681b-e395-41e1-8ae8-34e651d7c794",
   "metadata": {},
   "outputs": [
    {
     "data": {
      "text/plain": [
       "<matplotlib.legend.Legend at 0x2fec47b5a90>"
      ]
     },
     "execution_count": 92,
     "metadata": {},
     "output_type": "execute_result"
    },
    {
     "data": {
      "image/png": "[encoded data removed]",
      "text/plain": [
       "<Figure size 640x480 with 1 Axes>"
      ]
     },
     "metadata": {},
     "output_type": "display_data"
    }
   ],
   "source": [
    "import matplotlib.pyplot as plt\n",
    "plt.subplot(1,2,1)\n",
    "plt.plot(accuracy,label='accuracy')\n",
    "plt.plot(val_accuracy,label='val_accuracy')\n",
    "plt.title('Accuracy Graph')\n",
    "plt.xlabel('Epochs')\n",
    "plt.ylabel('Accuracy')\n",
    "plt.legend()"
   ]
  },
  {
   "cell_type": "code",
   "execution_count": 93,
   "id": "f8df3431-8f40-45bc-a9e9-94a23903bc07",
   "metadata": {},
   "outputs": [
    {
     "data": {
      "image/png": "[encoded data removed]",
      "text/plain": [
       "<Figure size 640x480 with 1 Axes>"
      ]
     },
     "metadata": {},
     "output_type": "display_data"
    }
   ],
   "source": [
    "plt.subplot(1,2,2)\n",
    "plt.plot(loss,label='loss')\n",
    "plt.plot(val_loss,label='val_loss')\n",
    "plt.title('Loss Graph')\n",
    "plt.xlabel('Epochs')\n",
    "plt.ylabel('Loss')\n",
    "plt.legend()\n",
    "plt.show()"
   ]
  },
  {
   "cell_type": "code",
   "execution_count": null,
   "id": "c2428681-68f3-4db7-9064-789d858ddf35",
   "metadata": {},
   "outputs": [],
   "source": []
  }
 ],
 "metadata": {
  "kernelspec": {
   "display_name": "Python 3 (ipykernel)",
   "language": "python",
   "name": "python3"
  },
  "language_info": {
   "codemirror_mode": {
    "name": "ipython",
    "version": 3
   },
   "file_extension": ".py",
   "mimetype": "text/x-python",
   "name": "python",
   "nbconvert_exporter": "python",
   "pygments_lexer": "ipython3",
   "version": "3.11.7"
  }
 },
 "nbformat": 4,
 "nbformat_minor": 5
}
